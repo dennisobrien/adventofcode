{
 "cells": [
  {
   "cell_type": "markdown",
   "metadata": {},
   "source": [
    "# 1204\n",
    "\n",
    "https://adventofcode.com/2019/day/4\n",
    "\n",
    "## part one\n",
    "\n",
    "a few key facts about the password:\n",
    "1. It is a six-digit number.\n",
    "1. The value is within the range given in your puzzle input.\n",
    "1. Two adjacent digits are the same (like 22 in 122345).\n",
    "1. Going from left to right, the digits never decrease; they only ever increase or stay the same (like 111123 or 135679).\n",
    "\n",
    "Other than the range rule, the following are true:\n",
    "- 111111 meets these criteria (double 11, never decreases).\n",
    "- 223450 does not meet these criteria (decreasing pair of digits 50).\n",
    "- 123789 does not meet these criteria (no double).\n"
   ]
  },
  {
   "cell_type": "code",
   "execution_count": 37,
   "metadata": {},
   "outputs": [
    {
     "data": {
      "text/plain": [
       "245"
      ]
     },
     "execution_count": 37,
     "metadata": {},
     "output_type": "execute_result"
    }
   ],
   "source": [
    "import doctest\n",
    "\n",
    "def get_digit_count(n):\n",
    "    \"\"\"Return the number of digits in the integer `n`\n",
    "    >>> get_digit_count(0)\n",
    "    1\n",
    "    >>> get_digit_count(123)\n",
    "    3\n",
    "    >>> get_digit_count(654321)\n",
    "    6\n",
    "    >>> get_digit_count(-1)\n",
    "    1\n",
    "    \"\"\"\n",
    "    return len(str(abs(n)))\n",
    "\n",
    "def is_in_range(value, low, high):\n",
    "    return value >= low and value <= high\n",
    "\n",
    "\n",
    "def contains_adjacent_identical_digits(value):\n",
    "    \"\"\"Return True if the integer `value` contains at least two adjacent identical digits.\n",
    "    \n",
    "    >>> contains_adjacent_identical_digits(1)\n",
    "    False\n",
    "    >>> contains_adjacent_identical_digits(11)\n",
    "    True\n",
    "    >>> contains_adjacent_identical_digits(1233)\n",
    "    True\n",
    "    >>> contains_adjacent_identical_digits(1234)\n",
    "    False\n",
    "    \"\"\"\n",
    "    s = str(abs(value))\n",
    "    if len(s) <= 1:\n",
    "        return False\n",
    "    for a, b in zip(s[:-1], s[1:]):\n",
    "        if a == b:\n",
    "            return True\n",
    "    return False\n",
    "\n",
    "\n",
    "def monotonic_increase(value):\n",
    "    \"\"\"Return True if the digits in `value` increase or stay the same from left to right.\n",
    "    \n",
    "    >>> monotonic_increase(0)\n",
    "    True\n",
    "    >>> monotonic_increase(1)\n",
    "    True\n",
    "    >>> monotonic_increase(10)\n",
    "    False\n",
    "    >>> monotonic_increase(11)\n",
    "    True\n",
    "    >>> monotonic_increase(11223455)\n",
    "    True\n",
    "    \"\"\"\n",
    "    s = str(abs(value))\n",
    "    return sorted(iter(s)) == list(iter(s))    \n",
    "    \n",
    "\n",
    "def increment(value):\n",
    "    return value + 1\n",
    "\n",
    "def find_passwords(low, high, digits=4):\n",
    "    if get_digit_count(low) < digits:\n",
    "        low = int('1' * digits)  # smallest value that fits the criteria 1, 3, and 4\n",
    "    passwords = []\n",
    "    value = low\n",
    "    while True:\n",
    "        if not is_in_range(value, low, high):\n",
    "            # criteria 2\n",
    "            # print(f'{value} out of range [{low}, {high}]')\n",
    "            break\n",
    "        elif not contains_adjacent_identical_digits(value):\n",
    "            # criteria 3\n",
    "            # print(f'{value} does not contain adjacent digits')\n",
    "            value = increment(value)\n",
    "        elif not monotonic_increase(value):\n",
    "            # criteria 4\n",
    "            # print(f'{value} is not monotonically increasing')\n",
    "            value = increment(value)\n",
    "        else:\n",
    "            # passed all tests\n",
    "            passwords.append(value)\n",
    "            value = increment(value)\n",
    "    return passwords\n",
    "\n",
    "\n",
    "len(find_passwords(1728, 6758, digits=4))"
   ]
  },
  {
   "cell_type": "code",
   "execution_count": 38,
   "metadata": {},
   "outputs": [
    {
     "data": {
      "text/plain": [
       "715"
      ]
     },
     "execution_count": 38,
     "metadata": {},
     "output_type": "execute_result"
    }
   ],
   "source": [
    "len(find_passwords(17285, 67586, digits=5))"
   ]
  },
  {
   "cell_type": "code",
   "execution_count": 39,
   "metadata": {},
   "outputs": [
    {
     "data": {
      "text/plain": [
       "1660"
      ]
     },
     "execution_count": 39,
     "metadata": {},
     "output_type": "execute_result"
    }
   ],
   "source": [
    "len(find_passwords(172851, 675869, digits=6))"
   ]
  },
  {
   "cell_type": "code",
   "execution_count": 30,
   "metadata": {},
   "outputs": [],
   "source": [
    "doctest.run_docstring_examples(get_digit_count, globals())\n",
    "doctest.run_docstring_examples(contains_adjacent_identical_digits, globals())\n",
    "doctest.run_docstring_examples(monotonic_increase, globals())"
   ]
  },
  {
   "cell_type": "markdown",
   "metadata": {},
   "source": [
    "## part two\n",
    "\n",
    "https://adventofcode.com/2019/day/4#part2\n",
    "\n",
    "one more important detail: the two adjacent matching digits are not part of a larger group of matching digits.\n",
    "\n",
    "Given this additional criterion, but still ignoring the range rule, the following are now true:\n",
    "\n",
    "- 112233 meets these criteria because the digits never decrease and all repeated digits are exactly two digits long.\n",
    "- 123444 no longer meets the criteria (the repeated 44 is part of a larger group of 444).\n",
    "- 111122 meets the criteria (even though 1 is repeated more than twice, it still contains a double 22)\n",
    "\n",
    "We can adjust this by adding an additional check."
   ]
  },
  {
   "cell_type": "code",
   "execution_count": 47,
   "metadata": {},
   "outputs": [],
   "source": [
    "def contains_at_least_one_adjacent_run_length_two(value):\n",
    "    \"\"\"\n",
    "    \n",
    "    >>> contains_at_least_one_adjacent_run_length_two(112233)\n",
    "    True\n",
    "    >>> contains_at_least_one_adjacent_run_length_two(123444)\n",
    "    False\n",
    "    >>> contains_at_least_one_adjacent_run_length_two(111122)\n",
    "    True\n",
    "    \"\"\"\n",
    "    s = str(abs(value))\n",
    "    if len(s) <= 1:\n",
    "        return False\n",
    "    elif len(s) == 2:\n",
    "        return s[0] == s[1]\n",
    "    # represent the digits as a list of sublists where each sublist is \n",
    "    # consecutive identical digits as long as possible\n",
    "    segments = []\n",
    "    current_segment = []\n",
    "    segments.append(current_segment)\n",
    "    prev_ch = None\n",
    "    for ch in s:\n",
    "        if ch == prev_ch or prev_ch is None:\n",
    "            # run continues\n",
    "            current_segment.append(ch)\n",
    "        else:\n",
    "            # new run\n",
    "            current_segment = [ch]\n",
    "            segments.append(current_segment)\n",
    "        prev_ch = ch\n",
    "    for segment in segments:\n",
    "        if len(segment) == 2:\n",
    "            return True\n",
    "    return False\n",
    "            \n",
    "\n",
    "doctest.run_docstring_examples(contains_at_least_one_adjacent_run_length_two, globals())"
   ]
  },
  {
   "cell_type": "code",
   "execution_count": 48,
   "metadata": {},
   "outputs": [
    {
     "data": {
      "text/plain": [
       "190"
      ]
     },
     "execution_count": 48,
     "metadata": {},
     "output_type": "execute_result"
    }
   ],
   "source": [
    "def find_passwords_part2(low, high, digits=4):\n",
    "    if get_digit_count(low) < digits:\n",
    "        low = int('1' * digits)  # smallest value that fits the criteria 1, 3, and 4\n",
    "    passwords = []\n",
    "    value = low\n",
    "    while True:\n",
    "        if not is_in_range(value, low, high):\n",
    "            # criteria 2\n",
    "            # print(f'{value} out of range [{low}, {high}]')\n",
    "            break\n",
    "        elif not contains_at_least_one_adjacent_run_length_two(value):\n",
    "            # new criteria\n",
    "            # print(f'{value} does not contain adjacent digits')\n",
    "            value = increment(value)\n",
    "        elif not monotonic_increase(value):\n",
    "            # criteria 4\n",
    "            # print(f'{value} is not monotonically increasing')\n",
    "            value = increment(value)\n",
    "        else:\n",
    "            # passed all tests\n",
    "            passwords.append(value)\n",
    "            value = increment(value)\n",
    "    return passwords\n",
    "\n",
    "\n",
    "len(find_passwords_part2(1728, 6758, digits=4))"
   ]
  },
  {
   "cell_type": "code",
   "execution_count": 49,
   "metadata": {},
   "outputs": [
    {
     "data": {
      "text/plain": [
       "495"
      ]
     },
     "execution_count": 49,
     "metadata": {},
     "output_type": "execute_result"
    }
   ],
   "source": [
    "len(find_passwords_part2(17285, 67586, digits=5))"
   ]
  },
  {
   "cell_type": "code",
   "execution_count": 50,
   "metadata": {},
   "outputs": [
    {
     "data": {
      "text/plain": [
       "1135"
      ]
     },
     "execution_count": 50,
     "metadata": {},
     "output_type": "execute_result"
    }
   ],
   "source": [
    "len(find_passwords_part2(172851, 675869, digits=6))"
   ]
  },
  {
   "cell_type": "code",
   "execution_count": null,
   "metadata": {},
   "outputs": [],
   "source": []
  }
 ],
 "metadata": {
  "kernelspec": {
   "display_name": "Python 3",
   "language": "python",
   "name": "python3"
  },
  "language_info": {
   "codemirror_mode": {
    "name": "ipython",
    "version": 3
   },
   "file_extension": ".py",
   "mimetype": "text/x-python",
   "name": "python",
   "nbconvert_exporter": "python",
   "pygments_lexer": "ipython3",
   "version": "3.7.3"
  }
 },
 "nbformat": 4,
 "nbformat_minor": 4
}
