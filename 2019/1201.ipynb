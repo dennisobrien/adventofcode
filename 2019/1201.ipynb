{
 "cells": [
  {
   "cell_type": "markdown",
   "metadata": {},
   "source": [
    "# 1201\n",
    "\n",
    "https://adventofcode.com/2019/day/1\n",
    "\n",
    "## part 1\n",
    "\n",
    "> Fuel required to launch a given module is based on its mass. Specifically, to find the fuel required for a module, take its mass, divide by three, round down, and subtract 2.\n",
    ">\n",
    "> For example:\n",
    "> \n",
    "> - For a mass of 12, divide by 3 and round down to get 4, then subtract 2 to get 2.\n",
    "> - For a mass of 14, dividing by 3 and rounding down still yields 4, so the fuel required is also 2.\n",
    "> - For a mass of 1969, the fuel required is 654.\n",
    "> - For a mass of 100756, the fuel required is 33583."
   ]
  },
  {
   "cell_type": "code",
   "execution_count": 4,
   "metadata": {},
   "outputs": [
    {
     "name": "stdout",
     "output_type": "stream",
     "text": [
      "Finding tests in NoName\n",
      "Trying:\n",
      "    fuel_required(12)\n",
      "Expecting:\n",
      "    2\n",
      "ok\n",
      "Trying:\n",
      "    fuel_required(14)\n",
      "Expecting:\n",
      "    2\n",
      "ok\n",
      "Trying:\n",
      "    fuel_required(1969)\n",
      "Expecting:\n",
      "    654\n",
      "ok\n",
      "Trying:\n",
      "    fuel_required(100756)\n",
      "Expecting:\n",
      "    33583\n",
      "ok\n"
     ]
    }
   ],
   "source": [
    "import doctest\n",
    "\n",
    "\n",
    "def fuel_required(module_mass):\n",
    "    \"\"\"Return the fuel required to launch the module of mass `module_mass`.\n",
    "    \n",
    "    >>> fuel_required(12)\n",
    "    2\n",
    "    >>> fuel_required(14)\n",
    "    2\n",
    "    >>> fuel_required(1969)\n",
    "    654\n",
    "    >>> fuel_required(100756)\n",
    "    33583\n",
    "    \"\"\"\n",
    "    return max((module_mass // 3) - 2, 0)\n",
    "\n",
    "doctest.run_docstring_examples(fuel_required, globals(), verbose=True)"
   ]
  },
  {
   "cell_type": "code",
   "execution_count": 9,
   "metadata": {},
   "outputs": [
    {
     "data": {
      "text/plain": [
       "3434390"
      ]
     },
     "execution_count": 9,
     "metadata": {},
     "output_type": "execute_result"
    }
   ],
   "source": [
    "puzzle_input = [int(x) for x in \"\"\"98541\n",
    "129056\n",
    "134974\n",
    "66390\n",
    "121382\n",
    "94570\n",
    "107586\n",
    "98767\n",
    "65101\n",
    "56320\n",
    "63431\n",
    "112200\n",
    "119262\n",
    "142745\n",
    "143941\n",
    "148764\n",
    "70301\n",
    "149623\n",
    "125170\n",
    "114562\n",
    "136701\n",
    "76971\n",
    "52292\n",
    "127671\n",
    "107547\n",
    "77460\n",
    "55268\n",
    "119986\n",
    "104257\n",
    "82814\n",
    "64527\n",
    "74279\n",
    "98542\n",
    "54710\n",
    "96317\n",
    "105670\n",
    "146248\n",
    "134587\n",
    "104028\n",
    "65286\n",
    "91788\n",
    "106723\n",
    "137825\n",
    "139949\n",
    "74403\n",
    "106574\n",
    "133990\n",
    "96165\n",
    "121316\n",
    "94072\n",
    "76612\n",
    "109470\n",
    "147556\n",
    "113157\n",
    "67117\n",
    "85237\n",
    "134232\n",
    "94622\n",
    "76160\n",
    "107532\n",
    "120637\n",
    "51505\n",
    "82847\n",
    "105600\n",
    "97719\n",
    "113114\n",
    "68177\n",
    "149213\n",
    "116125\n",
    "145577\n",
    "83921\n",
    "134810\n",
    "138804\n",
    "90125\n",
    "70621\n",
    "103245\n",
    "51584\n",
    "93437\n",
    "125352\n",
    "100578\n",
    "53497\n",
    "112023\n",
    "92999\n",
    "107998\n",
    "148030\n",
    "101185\n",
    "65777\n",
    "92272\n",
    "145846\n",
    "81488\n",
    "61957\n",
    "69551\n",
    "125625\n",
    "146328\n",
    "123666\n",
    "102629\n",
    "121996\n",
    "94172\n",
    "128023\n",
    "123472\"\"\".split()]\n",
    "sum([fuel_required(x) for x in puzzle_input])"
   ]
  },
  {
   "cell_type": "markdown",
   "metadata": {},
   "source": [
    "## part 2\n",
    "\n",
    "https://adventofcode.com/2019/day/1#part2\n",
    "\n",
    "> For each module mass, calculate its fuel and add it to the total. Then, treat the fuel amount you just calculated as the input mass and repeat the process, continuing until a fuel requirement is zero or negative. For example:\n",
    "> \n",
    "> - A module of mass 14 requires 2 fuel. This fuel requires no further fuel (2 divided by 3 and rounded down is 0, which would call for a negative fuel), so the total fuel required is still just 2.\n",
    "> - At first, a module of mass 1969 requires 654 fuel. Then, this fuel requires 216 more fuel (654 / 3 - 2). 216 then requires 70 more fuel, which requires 21 fuel, which requires 5 fuel, which requires no further fuel. So, the total fuel required for a module of mass 1969 is 654 + 216 + 70 + 21 + 5 = 966.\n",
    "> - The fuel required by a module of mass 100756 and its fuel is: 33583 + 11192 + 3728 + 1240 + 411 + 135 + 43 + 12 + 2 = 50346.\n"
   ]
  },
  {
   "cell_type": "code",
   "execution_count": 11,
   "metadata": {},
   "outputs": [
    {
     "name": "stdout",
     "output_type": "stream",
     "text": [
      "Finding tests in NoName\n",
      "Trying:\n",
      "    fuel_required_total(14)\n",
      "Expecting:\n",
      "    2\n",
      "ok\n",
      "Trying:\n",
      "    fuel_required_total(1969)\n",
      "Expecting:\n",
      "    966\n",
      "ok\n",
      "Trying:\n",
      "    fuel_required_total(100756)\n",
      "Expecting:\n",
      "    50346\n",
      "ok\n"
     ]
    }
   ],
   "source": [
    "def fuel_required_total(module_mass):\n",
    "    \"\"\"Return the total fuel required for the module of mass `module_mass` taking into consideration\n",
    "    the incremental mass of the fuel itself.\n",
    "    \n",
    "    >>> fuel_required_total(14)\n",
    "    2\n",
    "    >>> fuel_required_total(1969)\n",
    "    966\n",
    "    >>> fuel_required_total(100756)\n",
    "    50346\n",
    "    \"\"\"\n",
    "    fuel = 0\n",
    "    incremental_fuel = fuel_required(module_mass)\n",
    "    fuel += incremental_fuel\n",
    "    while incremental_fuel > 0:\n",
    "        incremental_fuel = fuel_required(incremental_fuel)\n",
    "        fuel += incremental_fuel\n",
    "    return fuel\n",
    "\n",
    "\n",
    "doctest.run_docstring_examples(fuel_required_total, globals(), verbose=True)"
   ]
  },
  {
   "cell_type": "code",
   "execution_count": 12,
   "metadata": {},
   "outputs": [
    {
     "data": {
      "text/plain": [
       "5148724"
      ]
     },
     "execution_count": 12,
     "metadata": {},
     "output_type": "execute_result"
    }
   ],
   "source": [
    "sum([fuel_required_total(x) for x in puzzle_input])"
   ]
  },
  {
   "cell_type": "code",
   "execution_count": null,
   "metadata": {},
   "outputs": [],
   "source": []
  }
 ],
 "metadata": {
  "kernelspec": {
   "display_name": "Python 3",
   "language": "python",
   "name": "python3"
  },
  "language_info": {
   "codemirror_mode": {
    "name": "ipython",
    "version": 3
   },
   "file_extension": ".py",
   "mimetype": "text/x-python",
   "name": "python",
   "nbconvert_exporter": "python",
   "pygments_lexer": "ipython3",
   "version": "3.7.3"
  }
 },
 "nbformat": 4,
 "nbformat_minor": 4
}
