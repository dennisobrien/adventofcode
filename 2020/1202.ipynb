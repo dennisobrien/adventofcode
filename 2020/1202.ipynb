{
 "cells": [
  {
   "cell_type": "markdown",
   "metadata": {},
   "source": [
    "# Advent of Code 2020-12-02\n",
    "\n",
    "## Part 1\n",
    "\n",
    "> To try to debug the problem, they have created a list (your puzzle input) of passwords (according to the corrupted database) and the corporate policy when that password was set.\n",
    "> \n",
    "> For example, suppose you have the following list:\n",
    "> \n",
    "> 1-3 a: abcde\n",
    "> 1-3 b: cdefg\n",
    "> 2-9 c: ccccccccc\n",
    "> Each line gives the password policy and then the password. The password policy indicates the lowest and highest number of times a given letter must appear for the password to be valid. For example, 1-3 a means that the password must contain a at least 1 time and at most 3 times.\n",
    "> \n",
    "> In the above example, 2 passwords are valid. The middle password, cdefg, is not; it contains no instances of b, but needs at least 1. The first and third passwords are valid: they contain one a or nine c, both within the limits of their respective policies.\n",
    "> \n",
    "> How many passwords are valid according to their policies?\n",
    "\n"
   ]
  },
  {
   "cell_type": "code",
   "execution_count": 5,
   "metadata": {},
   "outputs": [],
   "source": [
    "import re"
   ]
  },
  {
   "cell_type": "code",
   "execution_count": 4,
   "metadata": {},
   "outputs": [
    {
     "data": {
      "text/plain": [
       "[('5-11 t', 'glhbttzvzttkdx'),\n",
       " ('2-4 f', 'cfkmf'),\n",
       " ('9-12 m', 'mmmmmmmmmmmmm'),\n",
       " ('2-10 z', 'vghqbzbcxf'),\n",
       " ('10-11 b', 'tbtbvbbnbwd'),\n",
       " ('1-6 d', 'cmhdnw'),\n",
       " ('1-5 r', 'xrrrdrrr'),\n",
       " ('12-13 g', 'pggkggggfggggg'),\n",
       " ('7-9 g', 'gsgwhgggg'),\n",
       " ('4-5 v', 'tvsgqvvv')]"
      ]
     },
     "execution_count": 4,
     "metadata": {},
     "output_type": "execute_result"
    }
   ],
   "source": [
    "def get_password_list():\n",
    "    \"\"\"Return a list of (rule, password) tuples.\"\"\"\n",
    "    with open('1202_input.txt', 'r') as f:\n",
    "        password_list = [tuple(c.strip() for c in l.split(':', 1)) for l in f.readlines()]\n",
    "    return password_list\n",
    "\n",
    "password_list = get_password_list()\n",
    "password_list[:10]"
   ]
  },
  {
   "cell_type": "code",
   "execution_count": 18,
   "metadata": {},
   "outputs": [
    {
     "data": {
      "text/plain": [
       "False"
      ]
     },
     "execution_count": 18,
     "metadata": {},
     "output_type": "execute_result"
    }
   ],
   "source": [
    "def parse_rule(rule):\n",
    "    \"\"\"Parse `rule` and return (minimum, maximum, character)\"\"\"\n",
    "    pattern = r\"\"\"(?P<minimum>\\d+)\\-(?P<maximum>\\d+)\\s+(?P<character>[a-z])\"\"\"\n",
    "    p = re.compile(pattern)\n",
    "    m = p.match(rule)\n",
    "    minimum = int(m.group('minimum'))\n",
    "    maximum = int(m.group('maximum'))\n",
    "    character = m.group('character')\n",
    "    return minimum, maximum, character\n",
    "\n",
    "def is_valid(password, rule):\n",
    "    minimum, maximum, character = parse_rule(rule)\n",
    "    n = sum([(c == character) for c in password])\n",
    "    return n >= minimum and n <= maximum\n",
    "\n",
    "is_valid('glhbttzvzttkdx', '5-11 t')"
   ]
  },
  {
   "cell_type": "code",
   "execution_count": 19,
   "metadata": {},
   "outputs": [
    {
     "name": "stdout",
     "output_type": "stream",
     "text": [
      "5-11 t glhbttzvzttkdx False\n",
      "2-4 f cfkmf True\n",
      "9-12 m mmmmmmmmmmmmm False\n",
      "2-10 z vghqbzbcxf False\n",
      "10-11 b tbtbvbbnbwd False\n",
      "1-6 d cmhdnw True\n",
      "1-5 r xrrrdrrr False\n",
      "12-13 g pggkggggfggggg False\n",
      "7-9 g gsgwhgggg False\n",
      "4-5 v tvsgqvvv True\n"
     ]
    }
   ],
   "source": [
    "for rule, password in password_list[:10]:\n",
    "    print(rule, password, is_valid(password, rule))"
   ]
  },
  {
   "cell_type": "code",
   "execution_count": 23,
   "metadata": {},
   "outputs": [
    {
     "data": {
      "text/plain": [
       "378"
      ]
     },
     "execution_count": 23,
     "metadata": {},
     "output_type": "execute_result"
    }
   ],
   "source": [
    "sum([is_valid(password, rule) for rule, password in password_list])"
   ]
  },
  {
   "cell_type": "markdown",
   "metadata": {},
   "source": [
    "## Part 2\n",
    "\n",
    "> While it appears you validated the passwords correctly, they don't seem to be what the Official Toboggan Corporate Authentication System is expecting.\n",
    "> \n",
    "> The shopkeeper suddenly realizes that he just accidentally explained the password policy rules from his old job at the sled rental place down the street! The Official Toboggan Corporate Policy actually works a little differently.\n",
    "> \n",
    "> Each policy actually describes two positions in the password, where 1 means the first character, 2 means the second character, and so on. (Be careful; Toboggan Corporate Policies have no concept of \"index zero\"!) Exactly one of these positions must contain the given letter. Other occurrences of the letter are irrelevant for the purposes of policy enforcement.\n",
    ">\n",
    "> Given the same example list from above:\n",
    ">\n",
    "> 1-3 a: abcde is valid: position 1 contains a and position 3 does not.\n",
    "> 1-3 b: cdefg is invalid: neither position 1 nor position 3 contains b.\n",
    "> 2-9 c: ccccccccc is invalid: both position 2 and position 9 contain c.\n",
    ">\n",
    ">How many passwords are valid according to the new interpretation of the policies?\n",
    "\n"
   ]
  },
  {
   "cell_type": "code",
   "execution_count": 29,
   "metadata": {},
   "outputs": [
    {
     "data": {
      "text/plain": [
       "False"
      ]
     },
     "execution_count": 29,
     "metadata": {},
     "output_type": "execute_result"
    }
   ],
   "source": [
    "def is_valid_part_two(password, rule):\n",
    "    \"\"\"Return true if exactly one of the characters at the 1-based index matches the character in the rule.\"\"\"\n",
    "    index_1, index_2, character = parse_rule(rule)\n",
    "    return (password[index_1 - 1] == character) != (password[index_2 - 1] == character)\n",
    "\n",
    "is_valid_part_two('glhbttzvzttkdx', '5-11 t')"
   ]
  },
  {
   "cell_type": "code",
   "execution_count": 30,
   "metadata": {},
   "outputs": [
    {
     "data": {
      "text/plain": [
       "280"
      ]
     },
     "execution_count": 30,
     "metadata": {},
     "output_type": "execute_result"
    }
   ],
   "source": [
    "sum([is_valid_part_two(password, rule) for rule, password in password_list])"
   ]
  },
  {
   "cell_type": "code",
   "execution_count": null,
   "metadata": {},
   "outputs": [],
   "source": []
  }
 ],
 "metadata": {
  "kernelspec": {
   "display_name": "Python [conda env:py38]",
   "language": "python",
   "name": "conda-env-py38-py"
  },
  "language_info": {
   "codemirror_mode": {
    "name": "ipython",
    "version": 3
   },
   "file_extension": ".py",
   "mimetype": "text/x-python",
   "name": "python",
   "nbconvert_exporter": "python",
   "pygments_lexer": "ipython3",
   "version": "3.8.5"
  }
 },
 "nbformat": 4,
 "nbformat_minor": 4
}
