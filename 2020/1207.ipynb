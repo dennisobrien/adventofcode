{
 "cells": [
  {
   "cell_type": "markdown",
   "metadata": {},
   "source": [
    "# Advent of Code 2020-12-08\n",
    "\n",
    "## Part 1\n",
    "\n",
    "```\n",
    "--- Day 7: Handy Haversacks ---\n",
    "You land at the regional airport in time for your next flight. In fact, it looks like you'll even have time to grab some food: all flights are currently delayed due to issues in luggage processing.\n",
    "\n",
    "Due to recent aviation regulations, many rules (your puzzle input) are being enforced about bags and their contents; bags must be color-coded and must contain specific quantities of other color-coded bags. Apparently, nobody responsible for these regulations considered how long they would take to enforce!\n",
    "\n",
    "For example, consider the following rules:\n",
    "\n",
    "light red bags contain 1 bright white bag, 2 muted yellow bags.\n",
    "dark orange bags contain 3 bright white bags, 4 muted yellow bags.\n",
    "bright white bags contain 1 shiny gold bag.\n",
    "muted yellow bags contain 2 shiny gold bags, 9 faded blue bags.\n",
    "shiny gold bags contain 1 dark olive bag, 2 vibrant plum bags.\n",
    "dark olive bags contain 3 faded blue bags, 4 dotted black bags.\n",
    "vibrant plum bags contain 5 faded blue bags, 6 dotted black bags.\n",
    "faded blue bags contain no other bags.\n",
    "dotted black bags contain no other bags.\n",
    "These rules specify the required contents for 9 bag types. In this example, every faded blue bag is empty, every vibrant plum bag contains 11 bags (5 faded blue and 6 dotted black), and so on.\n",
    "\n",
    "You have a shiny gold bag. If you wanted to carry it in at least one other bag, how many different bag colors would be valid for the outermost bag? (In other words: how many colors can, eventually, contain at least one shiny gold bag?)\n",
    "\n",
    "In the above rules, the following options would be available to you:\n",
    "\n",
    "A bright white bag, which can hold your shiny gold bag directly.\n",
    "A muted yellow bag, which can hold your shiny gold bag directly, plus some other bags.\n",
    "A dark orange bag, which can hold bright white and muted yellow bags, either of which could then hold your shiny gold bag.\n",
    "A light red bag, which can hold bright white and muted yellow bags, either of which could then hold your shiny gold bag.\n",
    "So, in this example, the number of bag colors that can eventually contain at least one shiny gold bag is 4.\n",
    "\n",
    "How many bag colors can eventually contain at least one shiny gold bag? (The list of rules is quite long; make sure you get all of it.)\n",
    "\n",
    "```\n",
    "\n"
   ]
  },
  {
   "cell_type": "code",
   "execution_count": 55,
   "metadata": {},
   "outputs": [],
   "source": [
    "from collections import deque\n",
    "import math\n",
    "import re"
   ]
  },
  {
   "cell_type": "code",
   "execution_count": 2,
   "metadata": {},
   "outputs": [
    {
     "data": {
      "text/plain": [
       "('muted tomato',\n",
       " {'bright brown': 1, 'dotted gold': 1, 'faded gray': 2, 'posh yellow': 1})"
      ]
     },
     "execution_count": 2,
     "metadata": {},
     "output_type": "execute_result"
    }
   ],
   "source": [
    "def parse_rule(s):\n",
    "    pattern = r'''(?P<parent_color>[\\w\\s]+)\n",
    "    \\s+bags\\s+contain\\s+\n",
    "    (?P<children>.+)\n",
    "    \\.\n",
    "    '''\n",
    "    p = re.compile(pattern, re.VERBOSE)\n",
    "    m = p.match(s)\n",
    "    parent_color = m.group('parent_color')\n",
    "    children = m.group('children')\n",
    "    child_dict = {}\n",
    "    item_pattern = r'''(?P<count>\\d+)\\s+(?P<color>[\\w\\s]+)\\s+bags?'''\n",
    "    item_p = re.compile(item_pattern, re.VERBOSE)\n",
    "    if children != 'no other bags':\n",
    "        for child in children.split(','):\n",
    "            child = child.strip()\n",
    "            item_m = item_p.match(child)\n",
    "            count = int(item_m.group('count'))\n",
    "            color = item_m.group('color')\n",
    "            child_dict[color] = count\n",
    "    return parent_color, child_dict\n",
    "\n",
    "parse_rule('muted tomato bags contain 1 bright brown bag, 1 dotted gold bag, 2 faded gray bags, 1 posh yellow bag.')"
   ]
  },
  {
   "cell_type": "code",
   "execution_count": 3,
   "metadata": {},
   "outputs": [
    {
     "data": {
      "text/plain": [
       "('faded violet', {})"
      ]
     },
     "execution_count": 3,
     "metadata": {},
     "output_type": "execute_result"
    }
   ],
   "source": [
    "parse_rule('faded violet bags contain no other bags.')"
   ]
  },
  {
   "cell_type": "code",
   "execution_count": 10,
   "metadata": {},
   "outputs": [
    {
     "data": {
      "text/plain": [
       "{'bright brown': 1, 'dotted gold': 1, 'faded gray': 2, 'posh yellow': 1}"
      ]
     },
     "execution_count": 10,
     "metadata": {},
     "output_type": "execute_result"
    }
   ],
   "source": [
    "def parse_graph(s):\n",
    "    graph = {}\n",
    "    for line in s.split('\\n'):\n",
    "        line = line.strip()\n",
    "        if not line:\n",
    "            continue\n",
    "        parent_color, child_dict = parse_rule(line)\n",
    "        graph[parent_color] = child_dict\n",
    "    return graph\n",
    "\n",
    "def process_input():\n",
    "    with open('1207_input.txt', 'r') as f:\n",
    "        return parse_graph(f.read())\n",
    "                        \n",
    "graph = process_input()\n",
    "graph['muted tomato']"
   ]
  },
  {
   "cell_type": "code",
   "execution_count": 11,
   "metadata": {},
   "outputs": [
    {
     "data": {
      "text/plain": [
       "{'bright brown', 'dotted gold', 'faded gray', 'posh yellow'}"
      ]
     },
     "execution_count": 11,
     "metadata": {},
     "output_type": "execute_result"
    }
   ],
   "source": [
    "set(graph['muted tomato'].keys()) - set(['muted tomato'])"
   ]
  },
  {
   "cell_type": "code",
   "execution_count": 12,
   "metadata": {},
   "outputs": [
    {
     "name": "stdout",
     "output_type": "stream",
     "text": [
      "['muted tomato', 'dotted gold']\n",
      "None\n",
      "None\n",
      "None\n"
     ]
    }
   ],
   "source": [
    "def bfs_paths(graph, source, target):\n",
    "    if graph.get(source) is None:\n",
    "        return None\n",
    "    if graph.get(target) is None:\n",
    "        return None\n",
    "    queue = [(source, [source])]\n",
    "    while queue:\n",
    "        (vertex, path) = queue.pop(0)\n",
    "        # print('vertex:', vertex)\n",
    "        # print('path:', path)\n",
    "        # print('nodes:', set(graph[vertex].keys()) - set(path))\n",
    "        for node in set(graph[vertex].keys()) - set(path):\n",
    "            if node == target:\n",
    "                yield path + [node]\n",
    "            else:\n",
    "                queue.append((node, path + [node]))\n",
    "\n",
    "def shortest_path(graph, source, target):\n",
    "    try:\n",
    "        return next(bfs_paths(graph, source, target))\n",
    "    except StopIteration:\n",
    "        return None\n",
    "\n",
    "print(shortest_path(graph, 'muted tomato', 'dotted gold'))\n",
    "print(shortest_path(graph, 'muted tomato', 'dotted chartreuse'))\n",
    "print(shortest_path(graph, 'muted tomato', 'muted tomato'))\n",
    "print(shortest_path(graph, 'shiny gold', 'shiny gold'))\n"
   ]
  },
  {
   "cell_type": "code",
   "execution_count": 13,
   "metadata": {},
   "outputs": [
    {
     "name": "stdout",
     "output_type": "stream",
     "text": [
      "['muted tomato', 'faded gray', 'muted turquoise', 'drab silver', 'shiny gold']\n",
      "None\n",
      "None\n",
      "None\n",
      "['light aqua', 'muted tomato', 'faded gray', 'muted turquoise', 'drab silver', 'shiny gold']\n",
      "None\n",
      "None\n",
      "['dark green', 'muted magenta', 'muted crimson', 'light bronze', 'bright yellow', 'shiny gold']\n",
      "['faded bronze', 'muted gold', 'dark turquoise', 'dim aqua', 'muted maroon', 'vibrant red', 'pale chartreuse', 'shiny gold']\n",
      "['clear lavender', 'dark beige', 'light green', 'shiny gold']\n"
     ]
    }
   ],
   "source": [
    "for color in list(graph.keys())[:10]:\n",
    "    print(shortest_path(graph, color, 'shiny gold'))"
   ]
  },
  {
   "cell_type": "code",
   "execution_count": 14,
   "metadata": {},
   "outputs": [
    {
     "data": {
      "text/plain": [
       "289"
      ]
     },
     "execution_count": 14,
     "metadata": {},
     "output_type": "execute_result"
    }
   ],
   "source": [
    "sum([shortest_path(graph, color, 'shiny gold') is not None for color in graph.keys()])"
   ]
  },
  {
   "cell_type": "markdown",
   "metadata": {},
   "source": [
    "## Part 2\n",
    "\n",
    "```\n",
    "--- Part Two ---\n",
    "It's getting pretty expensive to fly these days - not because of ticket prices, but because of the ridiculous number of bags you need to buy!\n",
    "\n",
    "Consider again your shiny gold bag and the rules from the above example:\n",
    "\n",
    "faded blue bags contain 0 other bags.\n",
    "dotted black bags contain 0 other bags.\n",
    "vibrant plum bags contain 11 other bags: 5 faded blue bags and 6 dotted black bags.\n",
    "dark olive bags contain 7 other bags: 3 faded blue bags and 4 dotted black bags.\n",
    "So, a single shiny gold bag must contain 1 dark olive bag (and the 7 bags within it) plus 2 vibrant plum bags (and the 11 bags within each of those): 1 + 1*7 + 2 + 2*11 = 32 bags!\n",
    "\n",
    "Of course, the actual rules have a small chance of going several levels deeper than this example; be sure to count all of the bags, even if the nesting becomes topologically impractical!\n",
    "\n",
    "Here's another example:\n",
    "\n",
    "shiny gold bags contain 2 dark red bags.\n",
    "dark red bags contain 2 dark orange bags.\n",
    "dark orange bags contain 2 dark yellow bags.\n",
    "dark yellow bags contain 2 dark green bags.\n",
    "dark green bags contain 2 dark blue bags.\n",
    "dark blue bags contain 2 dark violet bags.\n",
    "dark violet bags contain no other bags.\n",
    "In this example, a single shiny gold bag must contain 126 other bags.\n",
    "\n",
    "How many individual bags are required inside your single shiny gold bag?\n",
    "\n",
    "```"
   ]
  },
  {
   "cell_type": "code",
   "execution_count": 48,
   "metadata": {},
   "outputs": [
    {
     "data": {
      "text/plain": [
       "{'shiny gold': {'dark red': 2},\n",
       " 'dark red': {'dark orange': 2},\n",
       " 'dark orange': {'dark yellow': 2},\n",
       " 'dark yellow': {'dark green': 2},\n",
       " 'dark green': {'dark blue': 2},\n",
       " 'dark blue': {'dark violet': 2},\n",
       " 'dark violet': {}}"
      ]
     },
     "execution_count": 48,
     "metadata": {},
     "output_type": "execute_result"
    }
   ],
   "source": [
    "def get_test_graph():\n",
    "    s = \"\"\"\n",
    "shiny gold bags contain 2 dark red bags.\n",
    "dark red bags contain 2 dark orange bags.\n",
    "dark orange bags contain 2 dark yellow bags.\n",
    "dark yellow bags contain 2 dark green bags.\n",
    "dark green bags contain 2 dark blue bags.\n",
    "dark blue bags contain 2 dark violet bags.\n",
    "dark violet bags contain no other bags.\n",
    "    \"\"\"\n",
    "    return parse_graph(s)\n",
    "\n",
    "test_graph = get_test_graph()\n",
    "test_graph"
   ]
  },
  {
   "cell_type": "code",
   "execution_count": 95,
   "metadata": {},
   "outputs": [
    {
     "data": {
      "text/plain": [
       "[[('shiny gold', 1),\n",
       "  ('dark red', 2),\n",
       "  ('dark orange', 2),\n",
       "  ('dark yellow', 2),\n",
       "  ('dark green', 2),\n",
       "  ('dark blue', 2),\n",
       "  ('dark violet', 2)]]"
      ]
     },
     "execution_count": 95,
     "metadata": {},
     "output_type": "execute_result"
    }
   ],
   "source": [
    "def get_paths(graph, source, verbose=False):\n",
    "    \"\"\"Traverse the `graph` starting at `source` and return a list of tuples of ((node, count), path)\n",
    "    where path is a list of (node, count) values.\n",
    "    \"\"\"\n",
    "    paths = []\n",
    "    queue = deque([(source, [(source, 1)])])\n",
    "    while queue:\n",
    "        if verbose:\n",
    "            print(f'=== {queue} ===')\n",
    "        vertex, path = queue.pop()\n",
    "        if verbose:\n",
    "            print(f'removed from queue: \"{vertex}\", {path}')\n",
    "        for node_name, node_count in zip(graph.get(vertex).keys(), graph.get(vertex).values()):\n",
    "            if verbose:\n",
    "                print(f'\\tnode_name: \"{node_name}\", node_count: {node_count}')\n",
    "            new_path = path + [(node_name, node_count)]\n",
    "            queue.append((node_name, new_path))\n",
    "            if len(graph[node_name]) == 0:\n",
    "                paths.append(new_path)\n",
    "    return paths\n",
    "\n",
    "get_paths(test_graph, 'shiny gold')"
   ]
  },
  {
   "cell_type": "code",
   "execution_count": 124,
   "metadata": {},
   "outputs": [
    {
     "name": "stdout",
     "output_type": "stream",
     "text": [
      ">> {'shiny gold': 1, 'dark red': 2, 'dark orange': 4, 'dark yellow': 8, 'dark green': 16, 'dark blue': 32, 'dark violet': 64}\n",
      ">>> final costs: {'shiny gold': 1, 'dark red': 2, 'dark orange': 4, 'dark yellow': 8, 'dark green': 16, 'dark blue': 32, 'dark violet': 64}\n"
     ]
    },
    {
     "data": {
      "text/plain": [
       "126"
      ]
     },
     "execution_count": 124,
     "metadata": {},
     "output_type": "execute_result"
    }
   ],
   "source": [
    "def calculate_path_cost(path, verbose=0):\n",
    "    cost = {}\n",
    "    previous_node_cost = None\n",
    "    for node_name, node_count in path:\n",
    "        if previous_node_cost is None:\n",
    "            node_cost = node_count\n",
    "        else:\n",
    "            node_cost = previous_node_cost * node_count\n",
    "        previous_node_cost = node_cost\n",
    "        cost[node_name] = node_cost\n",
    "        if verbose >= 2:\n",
    "            print(node_name, node_count, cost)\n",
    "    return cost\n",
    "\n",
    "\n",
    "def calculate_paths_cost(paths, verbose=0):\n",
    "    costs = {}\n",
    "    for path in paths:\n",
    "        #costs.append(calculate_path_cost(path, verbose=verbose))\n",
    "        cost_dict = calculate_path_cost(path, verbose=verbose)\n",
    "#         for k, v in cost_dict.items():\n",
    "#             if k in costs:\n",
    "#                 raise ValueError(f'key: \"{k}\", value: {v} is already in {costs}')\n",
    "        costs.update(cost_dict)\n",
    "        if verbose >= 1:\n",
    "            print(f'>> {costs}')\n",
    "    if verbose >= 1:\n",
    "        print(f'>>> final costs: {costs}')\n",
    "    root_node_cost = paths[0][0][1]\n",
    "    return sum(costs.values()) - root_node_cost\n",
    "\n",
    "calculate_paths_cost(get_paths(test_graph, 'shiny gold'), verbose=1)"
   ]
  },
  {
   "cell_type": "code",
   "execution_count": 132,
   "metadata": {},
   "outputs": [
    {
     "data": {
      "text/plain": [
       "[('shiny gold', 1),\n",
       " ('wavy cyan', 3),\n",
       " ('clear indigo', 5),\n",
       " ('posh brown', 2),\n",
       " ('striped chartreuse', 1)]"
      ]
     },
     "execution_count": 132,
     "metadata": {},
     "output_type": "execute_result"
    }
   ],
   "source": [
    "paths = get_paths(graph, 'shiny gold')\n",
    "paths[1]"
   ]
  },
  {
   "cell_type": "code",
   "execution_count": 133,
   "metadata": {},
   "outputs": [
    {
     "name": "stdout",
     "output_type": "stream",
     "text": [
      "shiny gold 1 {'shiny gold': 1}\n",
      "wavy cyan 3 {'shiny gold': 1, 'wavy cyan': 3}\n",
      "clear indigo 5 {'shiny gold': 1, 'wavy cyan': 3, 'clear indigo': 15}\n",
      "posh brown 2 {'shiny gold': 1, 'wavy cyan': 3, 'clear indigo': 15, 'posh brown': 30}\n",
      "striped chartreuse 1 {'shiny gold': 1, 'wavy cyan': 3, 'clear indigo': 15, 'posh brown': 30, 'striped chartreuse': 30}\n"
     ]
    },
    {
     "data": {
      "text/plain": [
       "{'shiny gold': 1,\n",
       " 'wavy cyan': 3,\n",
       " 'clear indigo': 15,\n",
       " 'posh brown': 30,\n",
       " 'striped chartreuse': 30}"
      ]
     },
     "execution_count": 133,
     "metadata": {},
     "output_type": "execute_result"
    }
   ],
   "source": [
    "calculate_path_cost(paths[1], verbose=2)"
   ]
  },
  {
   "cell_type": "code",
   "execution_count": 134,
   "metadata": {},
   "outputs": [
    {
     "name": "stdout",
     "output_type": "stream",
     "text": [
      "shiny gold 1 {'shiny gold': 1}\n",
      "wavy cyan 3 {'shiny gold': 1, 'wavy cyan': 3}\n",
      "clear indigo 5 {'shiny gold': 1, 'wavy cyan': 3, 'clear indigo': 15}\n",
      "posh brown 2 {'shiny gold': 1, 'wavy cyan': 3, 'clear indigo': 15, 'posh brown': 30}\n",
      "mirrored crimson 5 {'shiny gold': 1, 'wavy cyan': 3, 'clear indigo': 15, 'posh brown': 30, 'mirrored crimson': 150}\n",
      ">> {'shiny gold': 1, 'wavy cyan': 3, 'clear indigo': 15, 'posh brown': 30, 'mirrored crimson': 150}\n",
      "shiny gold 1 {'shiny gold': 1}\n",
      "wavy cyan 3 {'shiny gold': 1, 'wavy cyan': 3}\n",
      "clear indigo 5 {'shiny gold': 1, 'wavy cyan': 3, 'clear indigo': 15}\n",
      "posh brown 2 {'shiny gold': 1, 'wavy cyan': 3, 'clear indigo': 15, 'posh brown': 30}\n",
      "striped chartreuse 1 {'shiny gold': 1, 'wavy cyan': 3, 'clear indigo': 15, 'posh brown': 30, 'striped chartreuse': 30}\n",
      ">> {'shiny gold': 1, 'wavy cyan': 3, 'clear indigo': 15, 'posh brown': 30, 'mirrored crimson': 150, 'striped chartreuse': 30}\n",
      ">>> final costs: {'shiny gold': 1, 'wavy cyan': 3, 'clear indigo': 15, 'posh brown': 30, 'mirrored crimson': 150, 'striped chartreuse': 30}\n"
     ]
    },
    {
     "data": {
      "text/plain": [
       "228"
      ]
     },
     "execution_count": 134,
     "metadata": {},
     "output_type": "execute_result"
    }
   ],
   "source": [
    "calculate_paths_cost(paths[0:2], verbose=2)"
   ]
  },
  {
   "cell_type": "code",
   "execution_count": 128,
   "metadata": {},
   "outputs": [],
   "source": [
    "# {'shiny gold': 1, 'wavy cyan': 3, 'clear indigo': 15, 'posh brown': 8, 'mirrored crimson': 16, 'striped chartreuse': 8, 'dark lime': 8, 'dull chartreuse': 24, 'dim violet': 40, 'dull white': 120, 'mirrored olive': 45, 'faded beige': 16, 'bright turquoise': 6, 'vibrant bronze': 6, 'dotted gold': 24, 'drab beige': 24, 'clear yellow': 48, 'posh plum': 40, 'dim lime': 9, 'faded silver': 15, 'mirrored brown': 9, 'mirrored chartreuse': 9, 'pale magenta': 2, 'dull tomato': 10, 'dim plum': 8, 'drab salmon': 16, 'light coral': 64, 'dotted orange': 32, 'posh white': 5, 'pale gray': 10, 'bright blue': 25, 'shiny coral': 1, 'muted bronze': 4, 'mirrored beige': 8, 'striped olive': 8}"
   ]
  },
  {
   "cell_type": "code",
   "execution_count": 129,
   "metadata": {},
   "outputs": [],
   "source": [
    "# calculate_paths_cost(get_paths(graph, 'shiny gold'), verbose=1)"
   ]
  },
  {
   "cell_type": "code",
   "execution_count": 149,
   "metadata": {},
   "outputs": [
    {
     "data": {
      "text/plain": [
       "name: shiny gold, count: 1\n",
       ".name: dark red, count: 2\n",
       "..name: dark orange, count: 2\n",
       "...name: dark yellow, count: 2\n",
       "....name: dark green, count: 2\n",
       ".....name: dark blue, count: 2\n",
       "......name: dark violet, count: 2"
      ]
     },
     "execution_count": 149,
     "metadata": {},
     "output_type": "execute_result"
    }
   ],
   "source": [
    "class Bag():\n",
    "    def __init__(self, graph, name, count):\n",
    "        self.name = name\n",
    "        self.count = count\n",
    "        self.children = []\n",
    "        for child_name, child_count in graph[name].items():\n",
    "            self.children.append(Bag(graph, child_name, child_count))\n",
    "    \n",
    "    def __repr__(self):\n",
    "        return self.to_string(level=0)\n",
    "    \n",
    "    def to_string(self, level=0):\n",
    "        tabs = '.' * level\n",
    "        s = [f'{tabs}name: {self.name}, count: {self.count}']\n",
    "        for child in self.children:\n",
    "            s.append(child.to_string(level=level + 1))\n",
    "        return '\\n'.join(s)\n",
    "    \n",
    "    def total_count(self):\n",
    "        return self.count + self.count * sum([child.total_count() for child in self.children])\n",
    "\n",
    "test_bag = Bag(test_graph, 'shiny gold', 1)\n",
    "test_bag"
   ]
  },
  {
   "cell_type": "code",
   "execution_count": 150,
   "metadata": {},
   "outputs": [
    {
     "data": {
      "text/plain": [
       "127"
      ]
     },
     "execution_count": 150,
     "metadata": {},
     "output_type": "execute_result"
    }
   ],
   "source": [
    "test_bag.total_count()"
   ]
  },
  {
   "cell_type": "code",
   "execution_count": 154,
   "metadata": {},
   "outputs": [
    {
     "data": {
      "text/plain": [
       "name: shiny gold, count: 1\n",
       ".name: shiny coral, count: 1\n",
       "..name: pale magenta, count: 2\n",
       "...name: dim plum, count: 4\n",
       "....name: posh brown, count: 1\n",
       ".....name: dark lime, count: 1\n",
       "......name: dull chartreuse, count: 3\n",
       "......name: dim violet, count: 5\n",
       ".......name: dull white, count: 3\n",
       "......name: mirrored crimson, count: 2\n",
       ".....name: mirrored crimson, count: 5\n",
       ".....name: striped chartreuse, count: 1\n",
       "....name: dotted orange, count: 4\n",
       ".....name: light coral, count: 2\n",
       "....name: dotted gold, count: 3\n",
       ".....name: drab beige, count: 1\n",
       ".....name: mirrored crimson, count: 1\n",
       "....name: drab salmon, count: 2\n",
       ".....name: light coral, count: 5\n",
       "...name: dull tomato, count: 5\n",
       "....name: posh plum, count: 4\n",
       "...name: bright turquoise, count: 3\n",
       "....name: dotted gold, count: 2\n",
       ".....name: drab beige, count: 1\n",
       ".....name: mirrored crimson, count: 1\n",
       "....name: dim violet, count: 2\n",
       ".....name: dull white, count: 3\n",
       "....name: vibrant bronze, count: 1\n",
       "...name: dark lime, count: 1\n",
       "....name: dull chartreuse, count: 3\n",
       "....name: dim violet, count: 5\n",
       ".....name: dull white, count: 3\n",
       "....name: mirrored crimson, count: 2\n",
       "..name: muted bronze, count: 4\n",
       "...name: mirrored beige, count: 2\n",
       "....name: drab salmon, count: 1\n",
       ".....name: light coral, count: 5\n",
       "....name: striped olive, count: 1\n",
       "....name: dotted gold, count: 5\n",
       ".....name: drab beige, count: 1\n",
       ".....name: mirrored crimson, count: 1\n",
       "....name: faded beige, count: 2\n",
       ".....name: clear yellow, count: 3\n",
       "......name: posh plum, count: 2\n",
       ".....name: bright turquoise, count: 1\n",
       "......name: dotted gold, count: 2\n",
       ".......name: drab beige, count: 1\n",
       ".......name: mirrored crimson, count: 1\n",
       "......name: dim violet, count: 2\n",
       ".......name: dull white, count: 3\n",
       "......name: vibrant bronze, count: 1\n",
       "..name: light coral, count: 4\n",
       ".name: posh white, count: 5\n",
       "..name: bright blue, count: 5\n",
       "...name: drab salmon, count: 4\n",
       "....name: light coral, count: 5\n",
       "...name: dotted gold, count: 4\n",
       "....name: drab beige, count: 1\n",
       "....name: mirrored crimson, count: 1\n",
       "..name: pale gray, count: 2\n",
       "...name: dark lime, count: 3\n",
       "....name: dull chartreuse, count: 3\n",
       "....name: dim violet, count: 5\n",
       ".....name: dull white, count: 3\n",
       "....name: mirrored crimson, count: 2\n",
       "..name: dark lime, count: 2\n",
       "...name: dull chartreuse, count: 3\n",
       "...name: dim violet, count: 5\n",
       "....name: dull white, count: 3\n",
       "...name: mirrored crimson, count: 2\n",
       "..name: dotted gold, count: 4\n",
       "...name: drab beige, count: 1\n",
       "...name: mirrored crimson, count: 1\n",
       ".name: wavy cyan, count: 3\n",
       "..name: mirrored brown, count: 3\n",
       "...name: posh white, count: 4\n",
       "....name: bright blue, count: 5\n",
       ".....name: drab salmon, count: 4\n",
       "......name: light coral, count: 5\n",
       ".....name: dotted gold, count: 4\n",
       "......name: drab beige, count: 1\n",
       "......name: mirrored crimson, count: 1\n",
       "....name: pale gray, count: 2\n",
       ".....name: dark lime, count: 3\n",
       "......name: dull chartreuse, count: 3\n",
       "......name: dim violet, count: 5\n",
       ".......name: dull white, count: 3\n",
       "......name: mirrored crimson, count: 2\n",
       "....name: dark lime, count: 2\n",
       ".....name: dull chartreuse, count: 3\n",
       ".....name: dim violet, count: 5\n",
       "......name: dull white, count: 3\n",
       ".....name: mirrored crimson, count: 2\n",
       "....name: dotted gold, count: 4\n",
       ".....name: drab beige, count: 1\n",
       ".....name: mirrored crimson, count: 1\n",
       "...name: dim lime, count: 1\n",
       "....name: bright turquoise, count: 1\n",
       ".....name: dotted gold, count: 2\n",
       "......name: drab beige, count: 1\n",
       "......name: mirrored crimson, count: 1\n",
       ".....name: dim violet, count: 2\n",
       "......name: dull white, count: 3\n",
       ".....name: vibrant bronze, count: 1\n",
       "...name: pale magenta, count: 2\n",
       "....name: dim plum, count: 4\n",
       ".....name: posh brown, count: 1\n",
       "......name: dark lime, count: 1\n",
       ".......name: dull chartreuse, count: 3\n",
       ".......name: dim violet, count: 5\n",
       "........name: dull white, count: 3\n",
       ".......name: mirrored crimson, count: 2\n",
       "......name: mirrored crimson, count: 5\n",
       "......name: striped chartreuse, count: 1\n",
       ".....name: dotted orange, count: 4\n",
       "......name: light coral, count: 2\n",
       ".....name: dotted gold, count: 3\n",
       "......name: drab beige, count: 1\n",
       "......name: mirrored crimson, count: 1\n",
       ".....name: drab salmon, count: 2\n",
       "......name: light coral, count: 5\n",
       "....name: dull tomato, count: 5\n",
       ".....name: posh plum, count: 4\n",
       "....name: bright turquoise, count: 3\n",
       ".....name: dotted gold, count: 2\n",
       "......name: drab beige, count: 1\n",
       "......name: mirrored crimson, count: 1\n",
       ".....name: dim violet, count: 2\n",
       "......name: dull white, count: 3\n",
       ".....name: vibrant bronze, count: 1\n",
       "....name: dark lime, count: 1\n",
       ".....name: dull chartreuse, count: 3\n",
       ".....name: dim violet, count: 5\n",
       "......name: dull white, count: 3\n",
       ".....name: mirrored crimson, count: 2\n",
       "...name: mirrored chartreuse, count: 1\n",
       "....name: bright turquoise, count: 2\n",
       ".....name: dotted gold, count: 2\n",
       "......name: drab beige, count: 1\n",
       "......name: mirrored crimson, count: 1\n",
       ".....name: dim violet, count: 2\n",
       "......name: dull white, count: 3\n",
       ".....name: vibrant bronze, count: 1\n",
       "..name: faded silver, count: 5\n",
       "...name: dotted gold, count: 2\n",
       "....name: drab beige, count: 1\n",
       "....name: mirrored crimson, count: 1\n",
       "..name: dim lime, count: 1\n",
       "...name: bright turquoise, count: 1\n",
       "....name: dotted gold, count: 2\n",
       ".....name: drab beige, count: 1\n",
       ".....name: mirrored crimson, count: 1\n",
       "....name: dim violet, count: 2\n",
       ".....name: dull white, count: 3\n",
       "....name: vibrant bronze, count: 1\n",
       "..name: clear indigo, count: 5\n",
       "...name: mirrored olive, count: 3\n",
       "....name: mirrored crimson, count: 4\n",
       "....name: faded beige, count: 3\n",
       ".....name: clear yellow, count: 3\n",
       "......name: posh plum, count: 2\n",
       ".....name: bright turquoise, count: 1\n",
       "......name: dotted gold, count: 2\n",
       ".......name: drab beige, count: 1\n",
       ".......name: mirrored crimson, count: 1\n",
       "......name: dim violet, count: 2\n",
       ".......name: dull white, count: 3\n",
       "......name: vibrant bronze, count: 1\n",
       "...name: posh brown, count: 2\n",
       "....name: dark lime, count: 1\n",
       ".....name: dull chartreuse, count: 3\n",
       ".....name: dim violet, count: 5\n",
       "......name: dull white, count: 3\n",
       ".....name: mirrored crimson, count: 2\n",
       "....name: mirrored crimson, count: 5\n",
       "....name: striped chartreuse, count: 1"
      ]
     },
     "execution_count": 154,
     "metadata": {},
     "output_type": "execute_result"
    }
   ],
   "source": [
    "bag = Bag(graph, 'shiny gold', 1)\n",
    "bag"
   ]
  },
  {
   "cell_type": "code",
   "execution_count": 156,
   "metadata": {},
   "outputs": [
    {
     "data": {
      "text/plain": [
       "30055"
      ]
     },
     "execution_count": 156,
     "metadata": {},
     "output_type": "execute_result"
    }
   ],
   "source": [
    "bag.total_count() - 1"
   ]
  },
  {
   "cell_type": "code",
   "execution_count": null,
   "metadata": {},
   "outputs": [],
   "source": []
  }
 ],
 "metadata": {
  "kernelspec": {
   "display_name": "Python [conda env:py38]",
   "language": "python",
   "name": "conda-env-py38-py"
  },
  "language_info": {
   "codemirror_mode": {
    "name": "ipython",
    "version": 3
   },
   "file_extension": ".py",
   "mimetype": "text/x-python",
   "name": "python",
   "nbconvert_exporter": "python",
   "pygments_lexer": "ipython3",
   "version": "3.8.5"
  }
 },
 "nbformat": 4,
 "nbformat_minor": 4
}
