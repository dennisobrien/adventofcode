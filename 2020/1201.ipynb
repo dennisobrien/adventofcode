{
 "cells": [
  {
   "cell_type": "markdown",
   "metadata": {},
   "source": [
    "# Advent of Code 2020-12-01\n",
    "\n",
    "## Part 1\n",
    "\n",
    "> Before you leave, the Elves in accounting just need you to fix your expense report (your puzzle input); apparently, something isn't quite adding up.\n",
    "> \n",
    "> Specifically, they need you to find the two entries that sum to 2020 and then multiply those two numbers together.\n",
    "> \n",
    "> For example, suppose your expense report contained the following:\n",
    "> \n",
    "> 1721\n",
    "> 979\n",
    "> 366\n",
    "> 299\n",
    "> 675\n",
    "> 1456\n",
    "> In this list, the two entries that sum to 2020 are 1721 and 299. Multiplying them together produces 1721 * 299 = 514579, so the correct answer is 514579.\n",
    "> \n",
    "> Of course, your expense report is much larger. Find the two entries that sum to 2020; what do you get if you multiply them together?"
   ]
  },
  {
   "cell_type": "code",
   "execution_count": 38,
   "metadata": {},
   "outputs": [
    {
     "data": {
      "text/plain": [
       "[1293, 1207, 1623, 1675, 1842, 1410, 85, 1108, 557, 1217]"
      ]
     },
     "execution_count": 38,
     "metadata": {},
     "output_type": "execute_result"
    }
   ],
   "source": [
    "with open('1201_input.txt', 'r') as f:\n",
    "    numbers = [int(n) for n in f.readlines()]\n",
    "numbers[:10]"
   ]
  },
  {
   "cell_type": "code",
   "execution_count": 36,
   "metadata": {},
   "outputs": [
    {
     "data": {
      "text/plain": [
       "200"
      ]
     },
     "execution_count": 36,
     "metadata": {},
     "output_type": "execute_result"
    }
   ],
   "source": [
    "len(numbers)"
   ]
  },
  {
   "cell_type": "markdown",
   "metadata": {},
   "source": [
    "This is small enough for brute force solutions."
   ]
  },
  {
   "cell_type": "code",
   "execution_count": 41,
   "metadata": {},
   "outputs": [
    {
     "data": {
      "text/plain": [
       "(534, 1486, 2020, 793524)"
      ]
     },
     "execution_count": 41,
     "metadata": {},
     "output_type": "execute_result"
    }
   ],
   "source": [
    "def part_one(numbers, goal):\n",
    "    ns = sorted(numbers)\n",
    "    for index_i, i in enumerate(ns):\n",
    "        for j in ns[index_i+1:]:\n",
    "            if i + j > goal:\n",
    "                # print(f'{i} + {j} = {i+j} > {goal}')\n",
    "                break\n",
    "            if i + j == goal:\n",
    "                return(i, j, i + j, i * j)\n",
    "\n",
    "part_one(numbers, goal=2020)"
   ]
  },
  {
   "cell_type": "markdown",
   "metadata": {},
   "source": [
    "## Part 2\n",
    "\n",
    "> Using the above example again, the three entries that sum to 2020 are 979, 366, and 675. Multiplying them together produces the answer, 241861950.\n",
    ">\n",
    "> In your expense report, what is the product of the three entries that sum to 2020?"
   ]
  },
  {
   "cell_type": "code",
   "execution_count": 24,
   "metadata": {},
   "outputs": [
    {
     "data": {
      "text/plain": [
       "8000000"
      ]
     },
     "execution_count": 24,
     "metadata": {},
     "output_type": "execute_result"
    }
   ],
   "source": [
    "len(numbers) ** 3"
   ]
  },
  {
   "cell_type": "code",
   "execution_count": 42,
   "metadata": {},
   "outputs": [
    {
     "data": {
      "text/plain": [
       "(71, 686, 1263, 2020, 61515678)"
      ]
     },
     "execution_count": 42,
     "metadata": {},
     "output_type": "execute_result"
    }
   ],
   "source": [
    "def part_two(numbers, goal):\n",
    "    ns = sorted(numbers)\n",
    "    goal = 2020\n",
    "    for index_i in range(len(ns)):\n",
    "        i = ns[index_i]\n",
    "        for index_j in range(index_i+1, len(ns)):\n",
    "            j = ns[index_j]\n",
    "            if i + j > goal:\n",
    "                # print(f'{i} + {j} = {i+j} which is too large')\n",
    "                break\n",
    "            for index_k in range(index_j+1, len(ns)):\n",
    "                k = ns[index_k]\n",
    "                if i + j + k > goal:\n",
    "                    # print(f'{i} + {j} + {k} = {i+j+k} which is too large')\n",
    "                    break\n",
    "                if i + j + k == goal:\n",
    "                    return(i, j, k, i+j+k, i*j*k)\n",
    "\n",
    "part_two(numbers, goal=2020)"
   ]
  },
  {
   "cell_type": "code",
   "execution_count": null,
   "metadata": {},
   "outputs": [],
   "source": []
  }
 ],
 "metadata": {
  "kernelspec": {
   "display_name": "Python [conda env:py38]",
   "language": "python",
   "name": "conda-env-py38-py"
  },
  "language_info": {
   "codemirror_mode": {
    "name": "ipython",
    "version": 3
   },
   "file_extension": ".py",
   "mimetype": "text/x-python",
   "name": "python",
   "nbconvert_exporter": "python",
   "pygments_lexer": "ipython3",
   "version": "3.8.5"
  }
 },
 "nbformat": 4,
 "nbformat_minor": 4
}
