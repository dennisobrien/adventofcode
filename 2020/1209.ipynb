{
 "cells": [
  {
   "cell_type": "markdown",
   "metadata": {},
   "source": [
    "# Advent of Code 2020-12-09\n",
    "\n",
    "## Part 1\n",
    "\n",
    "```\n",
    "--- Day 9: Encoding Error ---\n",
    "With your neighbor happily enjoying their video game, you turn your attention to an open data port on the little screen in the seat in front of you.\n",
    "\n",
    "Though the port is non-standard, you manage to connect it to your computer through the clever use of several paperclips. Upon connection, the port outputs a series of numbers (your puzzle input).\n",
    "\n",
    "The data appears to be encrypted with the eXchange-Masking Addition System (XMAS) which, conveniently for you, is an old cypher with an important weakness.\n",
    "\n",
    "XMAS starts by transmitting a preamble of 25 numbers. After that, each number you receive should be the sum of any two of the 25 immediately previous numbers. The two numbers will have different values, and there might be more than one such pair.\n",
    "\n",
    "For example, suppose your preamble consists of the numbers 1 through 25 in a random order. To be valid, the next number must be the sum of two of those numbers:\n",
    "\n",
    "26 would be a valid next number, as it could be 1 plus 25 (or many other pairs, like 2 and 24).\n",
    "49 would be a valid next number, as it is the sum of 24 and 25.\n",
    "100 would not be valid; no two of the previous 25 numbers sum to 100.\n",
    "50 would also not be valid; although 25 appears in the previous 25 numbers, the two numbers in the pair must be different.\n",
    "Suppose the 26th number is 45, and the first number (no longer an option, as it is more than 25 numbers ago) was 20. Now, for the next number to be valid, there needs to be some pair of numbers among 1-19, 21-25, or 45 that add up to it:\n",
    "\n",
    "26 would still be a valid next number, as 1 and 25 are still within the previous 25 numbers.\n",
    "65 would not be valid, as no two of the available numbers sum to it.\n",
    "64 and 66 would both be valid, as they are the result of 19+45 and 21+45 respectively.\n",
    "Here is a larger example which only considers the previous 5 numbers (and has a preamble of length 5):\n",
    "\n",
    "35\n",
    "20\n",
    "15\n",
    "25\n",
    "47\n",
    "40\n",
    "62\n",
    "55\n",
    "65\n",
    "95\n",
    "102\n",
    "117\n",
    "150\n",
    "182\n",
    "127\n",
    "219\n",
    "299\n",
    "277\n",
    "309\n",
    "576\n",
    "In this example, after the 5-number preamble, almost every number is the sum of two of the previous 5 numbers; the only number that does not follow this rule is 127.\n",
    "\n",
    "The first step of attacking the weakness in the XMAS data is to find the first number in the list (after the preamble) which is not the sum of two of the 25 numbers before it. What is the first number that does not have this property?\n",
    "\n",
    "```"
   ]
  },
  {
   "cell_type": "code",
   "execution_count": 10,
   "metadata": {},
   "outputs": [],
   "source": [
    "from collections import deque\n",
    "from itertools import combinations"
   ]
  },
  {
   "cell_type": "code",
   "execution_count": 4,
   "metadata": {},
   "outputs": [
    {
     "data": {
      "text/plain": [
       "([12, 6, 33, 7, 21],\n",
       " [57751175350678,\n",
       "  62905822397628,\n",
       "  61880615721716,\n",
       "  81267339503777,\n",
       "  65441722483820])"
      ]
     },
     "execution_count": 4,
     "metadata": {},
     "output_type": "execute_result"
    }
   ],
   "source": [
    "def parse_input(s: str):\n",
    "    \"\"\"Take the input `s` as a string and output an array.\"\"\"\n",
    "    return [int(i) for i in s.split()]\n",
    "\n",
    "def process_input():\n",
    "    \"\"\"Process and parse the input file for this problem.\"\"\"\n",
    "    with open('1209_input.txt', 'r') as f:\n",
    "        return parse_input(f.read())\n",
    "\n",
    "\n",
    "number_list = process_input()\n",
    "number_list[:5], number_list[-5:]"
   ]
  },
  {
   "cell_type": "code",
   "execution_count": 5,
   "metadata": {},
   "outputs": [
    {
     "data": {
      "text/plain": [
       "[35,\n",
       " 20,\n",
       " 15,\n",
       " 25,\n",
       " 47,\n",
       " 40,\n",
       " 62,\n",
       " 55,\n",
       " 65,\n",
       " 95,\n",
       " 102,\n",
       " 117,\n",
       " 150,\n",
       " 182,\n",
       " 127,\n",
       " 219,\n",
       " 299,\n",
       " 277,\n",
       " 309,\n",
       " 576]"
      ]
     },
     "execution_count": 5,
     "metadata": {},
     "output_type": "execute_result"
    }
   ],
   "source": [
    "def get_test_list():\n",
    "    s = \"\"\"35\n",
    "20\n",
    "15\n",
    "25\n",
    "47\n",
    "40\n",
    "62\n",
    "55\n",
    "65\n",
    "95\n",
    "102\n",
    "117\n",
    "150\n",
    "182\n",
    "127\n",
    "219\n",
    "299\n",
    "277\n",
    "309\n",
    "576\"\"\"\n",
    "    return parse_input(s)\n",
    "\n",
    "test_list = get_test_list()\n",
    "test_list"
   ]
  },
  {
   "cell_type": "code",
   "execution_count": 16,
   "metadata": {},
   "outputs": [
    {
     "name": "stdout",
     "output_type": "stream",
     "text": [
      "The value 127 at index 14 is not a valid value given the current buffer deque([95, 102, 117, 150, 182])\n"
     ]
    },
    {
     "data": {
      "text/plain": [
       "127"
      ]
     },
     "execution_count": 16,
     "metadata": {},
     "output_type": "execute_result"
    }
   ],
   "source": [
    "def validate_number_list(number_list, buffer_length=25):\n",
    "    buffer = deque(number_list[:buffer_length])\n",
    "    for i in range(buffer_length, len(number_list)):\n",
    "        n = number_list[i]\n",
    "        all_sums = [a + b for a, b in combinations(buffer, 2)]\n",
    "        if n not in all_sums:\n",
    "            print(f'The value {n} at index {i} is not a valid value given the current buffer {buffer}')\n",
    "            return n\n",
    "        else:\n",
    "            buffer.popleft()\n",
    "            buffer.append(n)\n",
    "\n",
    "validate_number_list(test_list, buffer_length=5)"
   ]
  },
  {
   "cell_type": "code",
   "execution_count": 17,
   "metadata": {},
   "outputs": [
    {
     "name": "stdout",
     "output_type": "stream",
     "text": [
      "The value 258585477 at index 593 is not a valid value given the current buffer deque([198951344, 142219629, 334444190, 143337370, 170580391, 175989076, 151349978, 153807661, 171356265, 173038074, 195995363, 383468540, 280165437, 526805910, 422385066, 245188606, 226969276, 250016879, 259493145, 261509426, 371989418, 396538584, 284838237, 285556999, 472157882])\n"
     ]
    },
    {
     "data": {
      "text/plain": [
       "258585477"
      ]
     },
     "execution_count": 17,
     "metadata": {},
     "output_type": "execute_result"
    }
   ],
   "source": [
    "validate_number_list(number_list, buffer_length=25)"
   ]
  },
  {
   "cell_type": "markdown",
   "metadata": {},
   "source": [
    "## Part 2\n",
    "\n",
    "```\n",
    "--- Part Two ---\n",
    "The final step in breaking the XMAS encryption relies on the invalid number you just found: you must find a contiguous set of at least two numbers in your list which sum to the invalid number from step 1.\n",
    "\n",
    "Again consider the above example:\n",
    "\n",
    "35\n",
    "20\n",
    "15\n",
    "25\n",
    "47\n",
    "40\n",
    "62\n",
    "55\n",
    "65\n",
    "95\n",
    "102\n",
    "117\n",
    "150\n",
    "182\n",
    "127\n",
    "219\n",
    "299\n",
    "277\n",
    "309\n",
    "576\n",
    "In this list, adding up all of the numbers from 15 through 40 produces the invalid number from step 1, 127. (Of course, the contiguous set of numbers in your actual list might be much longer.)\n",
    "\n",
    "To find the encryption weakness, add together the smallest and largest number in this contiguous range; in this example, these are 15 and 47, producing 62.\n",
    "\n",
    "What is the encryption weakness in your XMAS-encrypted list of numbers?\n",
    "\n",
    "```"
   ]
  },
  {
   "cell_type": "code",
   "execution_count": 27,
   "metadata": {},
   "outputs": [
    {
     "name": "stdout",
     "output_type": "stream",
     "text": [
      "The value 127 at index 14 is not a valid value given the current buffer deque([95, 102, 117, 150, 182])\n",
      "Contigous numbers from 2 to 5 [15, 25, 47, 40] sum to 127\n",
      "15 + 47 = 62\n"
     ]
    }
   ],
   "source": [
    "def find_contiguous_list(number_list, value):\n",
    "    \"\"\"Return the list of contigous values from `number_list` that sums to `value`.\"\"\"\n",
    "    for i in range(len(number_list)-1):\n",
    "        for j in range(i+1, len(number_list)):\n",
    "            numbers = number_list[i: j+1]\n",
    "#             return numbers\n",
    "            if sum(numbers) == value:\n",
    "                print(f'Contigous numbers from {i} to {j} {numbers} sum to {value}')\n",
    "                print(f'{min(numbers)} + {max(numbers)} = {min(numbers) + max(numbers)}')\n",
    "\n",
    "find_contiguous_list(test_list, validate_number_list(test_list, buffer_length=5))"
   ]
  },
  {
   "cell_type": "code",
   "execution_count": 28,
   "metadata": {},
   "outputs": [
    {
     "name": "stdout",
     "output_type": "stream",
     "text": [
      "The value 258585477 at index 593 is not a valid value given the current buffer deque([198951344, 142219629, 334444190, 143337370, 170580391, 175989076, 151349978, 153807661, 171356265, 173038074, 195995363, 383468540, 280165437, 526805910, 422385066, 245188606, 226969276, 250016879, 259493145, 261509426, 371989418, 396538584, 284838237, 285556999, 472157882])\n",
      "Contigous numbers from 479 to 495 [13858643, 9455395, 9908827, 16794010, 13221299, 11563238, 12646458, 11137204, 11774548, 12220424, 14302571, 14304519, 14748447, 25865809, 22680253, 16578014, 27525818] sum to 258585477\n",
      "9455395 + 27525818 = 36981213\n"
     ]
    }
   ],
   "source": [
    "find_contiguous_list(number_list, validate_number_list(number_list, buffer_length=25))"
   ]
  },
  {
   "cell_type": "code",
   "execution_count": null,
   "metadata": {},
   "outputs": [],
   "source": []
  }
 ],
 "metadata": {
  "kernelspec": {
   "display_name": "Python [conda env:py38]",
   "language": "python",
   "name": "conda-env-py38-py"
  },
  "language_info": {
   "codemirror_mode": {
    "name": "ipython",
    "version": 3
   },
   "file_extension": ".py",
   "mimetype": "text/x-python",
   "name": "python",
   "nbconvert_exporter": "python",
   "pygments_lexer": "ipython3",
   "version": "3.8.5"
  }
 },
 "nbformat": 4,
 "nbformat_minor": 4
}
