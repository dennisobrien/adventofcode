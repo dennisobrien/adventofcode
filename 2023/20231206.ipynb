{
 "cells": [
  {
   "cell_type": "markdown",
   "id": "fd8144ea-a442-4bc1-9ca4-bfc585a44dcd",
   "metadata": {},
   "source": [
    "# Advent of Code: Day 6"
   ]
  },
  {
   "cell_type": "markdown",
   "id": "8d32dc00-088e-46ea-a4e7-71dedd9709e2",
   "metadata": {},
   "source": [
    "## Part One\n",
    "\n",
    "--- Day 6: Wait For It ---\n",
    "The ferry quickly brings you across Island Island. After asking around, you discover that there is indeed normally a large pile of sand somewhere near here, but you don't see anything besides lots of water and the small island where the ferry has docked.\n",
    "\n",
    "As you try to figure out what to do next, you notice a poster on a wall near the ferry dock. \"Boat races! Open to the public! Grand prize is an all-expenses-paid trip to Desert Island!\" That must be where the sand comes from! Best of all, the boat races are starting in just a few minutes.\n",
    "\n",
    "You manage to sign up as a competitor in the boat races just in time. The organizer explains that it's not really a traditional race - instead, you will get a fixed amount of time during which your boat has to travel as far as it can, and you win if your boat goes the farthest.\n",
    "\n",
    "As part of signing up, you get a sheet of paper (your puzzle input) that lists the time allowed for each race and also the best distance ever recorded in that race. To guarantee you win the grand prize, you need to make sure you go farther in each race than the current record holder.\n",
    "\n",
    "The organizer brings you over to the area where the boat races are held. The boats are much smaller than you expected - they're actually toy boats, each with a big button on top. Holding down the button charges the boat, and releasing the button allows the boat to move. Boats move faster if their button was held longer, but time spent holding the button counts against the total race time. You can only hold the button at the start of the race, and boats don't move until the button is released.\n",
    "\n",
    "For example:\n",
    "\n",
    "```\n",
    "Time:      7  15   30\n",
    "Distance:  9  40  200\n",
    "```\n",
    "\n",
    "This document describes three races:\n",
    "\n",
    "- The first race lasts 7 milliseconds. The record distance in this race is 9 millimeters.\n",
    "- The second race lasts 15 milliseconds. The record distance in this race is 40 millimeters.\n",
    "- The third race lasts 30 milliseconds. The record distance in this race is 200 millimeters.\n",
    "\n",
    "Your toy boat has a starting speed of zero millimeters per millisecond. For each whole millisecond you spend at the beginning of the race holding down the button, the boat's speed increases by one millimeter per millisecond.\n",
    "\n",
    "So, because the first race lasts 7 milliseconds, you only have a few options:\n",
    "\n",
    "- Don't hold the button at all (that is, hold it for 0 milliseconds) at the start of the race. The boat won't move; it will have traveled 0 millimeters by the end of the race.\n",
    "- Hold the button for 1 millisecond at the start of the race. Then, the boat will travel at a speed of 1 millimeter per millisecond for 6 milliseconds, reaching a total distance traveled of 6 millimeters.\n",
    "- Hold the button for 2 milliseconds, giving the boat a speed of 2 millimeters per millisecond. It will then get 5 milliseconds to move, reaching a total distance of 10 millimeters.\n",
    "- Hold the button for 3 milliseconds. After its remaining 4 milliseconds of travel time, the boat will have gone 12 millimeters.\n",
    "- Hold the button for 4 milliseconds. After its remaining 3 milliseconds of travel time, the boat will have gone 12 millimeters.\n",
    "- Hold the button for 5 milliseconds, causing the boat to travel a total of 10 millimeters.\n",
    "- Hold the button for 6 milliseconds, causing the boat to travel a total of 6 millimeters.\n",
    "- Hold the button for 7 milliseconds. That's the entire duration of the race. You never let go of the button. The boat can't move until you let go of the button. Please make sure you let go of the button so the boat gets to move. 0 millimeters.\n",
    "\n",
    "Since the current record for this race is 9 millimeters, there are actually 4 different ways you could win: you could hold the button for 2, 3, 4, or 5 milliseconds at the start of the race.\n",
    "\n",
    "In the second race, you could hold the button for at least 4 milliseconds and at most 11 milliseconds and beat the record, a total of 8 different ways to win.\n",
    "\n",
    "In the third race, you could hold the button for at least 11 milliseconds and no more than 19 milliseconds and still beat the record, a total of 9 ways you could win.\n",
    "\n",
    "To see how much margin of error you have, determine the number of ways you can beat the record in each race; in this example, if you multiply these values together, you get 288 (4 * 8 * 9).\n",
    "\n",
    "Determine the number of ways you could beat the record in each race. What do you get if you multiply these numbers together?\n"
   ]
  },
  {
   "cell_type": "code",
   "execution_count": 16,
   "id": "b73255ee-2ec2-498a-8b7e-24ba87cba43c",
   "metadata": {},
   "outputs": [],
   "source": [
    "from dataclasses import dataclass\n",
    "from functools import reduce"
   ]
  },
  {
   "cell_type": "code",
   "execution_count": 18,
   "id": "c0f6a419-ae71-4fdd-a2cd-e90872a55c7c",
   "metadata": {},
   "outputs": [
    {
     "name": "stdout",
     "output_type": "stream",
     "text": [
      "['Time:        58     81     96     76', 'Distance:   434   1041   2219   1218']\n",
      "Race(time=58, distance=434)\n",
      "[(9, 441), (10, 480), (11, 517), (12, 552), (13, 585), (14, 616), (15, 645), (16, 672), (17, 697), (18, 720), (19, 741), (20, 760), (21, 777), (22, 792), (23, 805), (24, 816), (25, 825), (26, 832), (27, 837), (28, 840), (29, 841), (30, 840), (31, 837), (32, 832), (33, 825), (34, 816), (35, 805), (36, 792), (37, 777), (38, 760), (39, 741), (40, 720), (41, 697), (42, 672), (43, 645), (44, 616), (45, 585), (46, 552), (47, 517), (48, 480), (49, 441)]\n",
      "41\n",
      "Race(time=81, distance=1041)\n",
      "[(17, 1088), (18, 1134), (19, 1178), (20, 1220), (21, 1260), (22, 1298), (23, 1334), (24, 1368), (25, 1400), (26, 1430), (27, 1458), (28, 1484), (29, 1508), (30, 1530), (31, 1550), (32, 1568), (33, 1584), (34, 1598), (35, 1610), (36, 1620), (37, 1628), (38, 1634), (39, 1638), (40, 1640), (41, 1640), (42, 1638), (43, 1634), (44, 1628), (45, 1620), (46, 1610), (47, 1598), (48, 1584), (49, 1568), (50, 1550), (51, 1530), (52, 1508), (53, 1484), (54, 1458), (55, 1430), (56, 1400), (57, 1368), (58, 1334), (59, 1298), (60, 1260), (61, 1220), (62, 1178), (63, 1134), (64, 1088)]\n",
      "48\n",
      "Race(time=96, distance=2219)\n",
      "[(39, 2223), (40, 2240), (41, 2255), (42, 2268), (43, 2279), (44, 2288), (45, 2295), (46, 2300), (47, 2303), (48, 2304), (49, 2303), (50, 2300), (51, 2295), (52, 2288), (53, 2279), (54, 2268), (55, 2255), (56, 2240), (57, 2223)]\n",
      "19\n",
      "Race(time=76, distance=1218)\n",
      "[(23, 1219), (24, 1248), (25, 1275), (26, 1300), (27, 1323), (28, 1344), (29, 1363), (30, 1380), (31, 1395), (32, 1408), (33, 1419), (34, 1428), (35, 1435), (36, 1440), (37, 1443), (38, 1444), (39, 1443), (40, 1440), (41, 1435), (42, 1428), (43, 1419), (44, 1408), (45, 1395), (46, 1380), (47, 1363), (48, 1344), (49, 1323), (50, 1300), (51, 1275), (52, 1248), (53, 1219)]\n",
      "31\n"
     ]
    },
    {
     "data": {
      "text/plain": [
       "1159152"
      ]
     },
     "execution_count": 18,
     "metadata": {},
     "output_type": "execute_result"
    }
   ],
   "source": [
    "@dataclass\n",
    "class Race:\n",
    "    time: int\n",
    "    distance: int\n",
    "\n",
    "    def get_possible_results(self, record_distance: int = None):\n",
    "        results = []\n",
    "        if record_distance is None:\n",
    "            record_distance = self.distance\n",
    "        for charge_time in range(self.time):\n",
    "            race_time: int = self.time - charge_time\n",
    "            race_distance = race_time * charge_time\n",
    "            if race_distance > record_distance:\n",
    "                results.append((charge_time, race_distance))\n",
    "        return results\n",
    "\n",
    "    def get_possible_result_count(self) -> int:\n",
    "        return len([charge_time for charge_time in range(self.time) if charge_time * (self.time - charge_time) > self.distance])\n",
    "\n",
    "\n",
    "def parse_input(lines: list[str]):\n",
    "    times = [int(t) for t in lines[0].split(':')[1].split()]\n",
    "    distances = [int(d) for d in lines[1].split(':')[1].split()]\n",
    "    races: list[Race] = [Race(t, d) for t, d in zip(times, distances)]\n",
    "    return races\n",
    "\n",
    "\n",
    "def get_input():\n",
    "    with open('20231206.txt', 'r') as f:\n",
    "        return [line.strip() for line in f.readlines()]\n",
    "\n",
    "\n",
    "def get_input_small():\n",
    "    return [\n",
    "        'Time:      7  15   30',\n",
    "        'Distance:  9  40  200',\n",
    "    ]\n",
    "\n",
    "\n",
    "def solution_part1():\n",
    "    input_lines = get_input()\n",
    "    # input_lines = get_input_small()\n",
    "    print(input_lines)\n",
    "    races = parse_input(input_lines)\n",
    "    result_counts: list[int] = []\n",
    "    for race in races:\n",
    "        print(race)\n",
    "        print(race.get_possible_results())\n",
    "        print(race.get_possible_result_count())\n",
    "        result_counts.append(race.get_possible_result_count())\n",
    "    value: int = reduce(lambda x, y: x*y, result_counts, 1)\n",
    "    return value\n",
    "\n",
    "solution_part1()"
   ]
  },
  {
   "cell_type": "markdown",
   "id": "aeacffe6-6b3a-45bc-94b6-12fe11ddb601",
   "metadata": {},
   "source": [
    "## Part two\n",
    "\n",
    "--- Part Two ---\n",
    "As the race is about to start, you realize the piece of paper with race times and record distances you got earlier actually just has very bad kerning. There's really only one race - ignore the spaces between the numbers on each line.\n",
    "\n",
    "So, the example from before:\n",
    "\n",
    "```\n",
    "Time:      7  15   30\n",
    "Distance:  9  40  200\n",
    "```\n",
    "...now instead means this:\n",
    "\n",
    "```\n",
    "Time:      71530\n",
    "Distance:  940200\n",
    "```\n",
    "\n",
    "Now, you have to figure out how many ways there are to win this single race. In this example, the race lasts for 71530 milliseconds and the record distance you need to beat is 940200 millimeters. You could hold the button anywhere from 14 to 71516 milliseconds and beat the record, a total of 71503 ways!\n",
    "\n",
    "How many ways can you beat the record in this one much longer race?"
   ]
  },
  {
   "cell_type": "code",
   "execution_count": 29,
   "id": "d96cab76-5f5b-48ab-b22c-90f671d8d50d",
   "metadata": {},
   "outputs": [
    {
     "name": "stdout",
     "output_type": "stream",
     "text": [
      "race Race(time=58819676, distance=434104122191218)\n"
     ]
    },
    {
     "data": {
      "text/plain": [
       "41513103"
      ]
     },
     "execution_count": 29,
     "metadata": {},
     "output_type": "execute_result"
    }
   ],
   "source": [
    "def parse_input_part2(lines: list[str]):\n",
    "    time: int = int(''.join([t for t in lines[0].split(':')[1].split()]))\n",
    "    distance: int = int(''.join([d for d in lines[1].split(':')[1].split()]))\n",
    "    races: list[Race] = [Race(time, distance)]\n",
    "    return races\n",
    "\n",
    "def solution_part2():\n",
    "    input_lines = get_input()\n",
    "    # input_lines = get_input_small()\n",
    "    # print(input_lines)\n",
    "    races = parse_input_part2(input_lines)\n",
    "    race: Race = races[0]\n",
    "    print('race', race)\n",
    "    return race.get_possible_result_count()\n",
    "    \n",
    "    # result_counts: list[int] = []\n",
    "    # for race in races:\n",
    "    #     print(race)\n",
    "    #     print(race.get_possible_results())\n",
    "    #     print(race.get_possible_result_count())\n",
    "    #     result_counts.append(race.get_possible_result_count())\n",
    "    # value: int = reduce(lambda x, y: x*y, result_counts, 1)\n",
    "    # return value\n",
    "\n",
    "solution_part2()"
   ]
  },
  {
   "cell_type": "code",
   "execution_count": null,
   "id": "018e6089-c8ea-42fb-92b8-28ce002074ed",
   "metadata": {},
   "outputs": [],
   "source": [
    ","
   ]
  }
 ],
 "metadata": {
  "kernelspec": {
   "display_name": "Python [conda env:py310]",
   "language": "python",
   "name": "conda-env-py310-py"
  },
  "language_info": {
   "codemirror_mode": {
    "name": "ipython",
    "version": 3
   },
   "file_extension": ".py",
   "mimetype": "text/x-python",
   "name": "python",
   "nbconvert_exporter": "python",
   "pygments_lexer": "ipython3",
   "version": "3.10.13"
  }
 },
 "nbformat": 4,
 "nbformat_minor": 5
}
