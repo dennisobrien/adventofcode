{
 "cells": [
  {
   "cell_type": "markdown",
   "id": "6d71b5f8-0740-4844-8212-8d1e35563752",
   "metadata": {
    "editable": true,
    "slideshow": {
     "slide_type": ""
    },
    "tags": []
   },
   "source": [
    "# Advent of Code: Day 1\n",
    "\n",
    "## 2023-12-01\n",
    "\n",
    "### Part One\n",
    "\n",
    "> The newly-improved calibration document consists of lines of text; each line originally contained a specific calibration value that the Elves now need to recover. On each line, the calibration value can be found by combining the first digit and the last digit (in that order) to form a single two-digit number.\n",
    ">\n",
    "> For example:\n",
    ">\n",
    "> ```\n",
    "> 1abc2\n",
    "> pqr3stu8vwx\n",
    "> a1b2c3d4e5f\n",
    "> treb7uchet\n",
    "> ```\n",
    ">\n",
    "> In this example, the calibration values of these four lines are 12, 38, 15, and 77. Adding these together produces 142.\n",
    ">\n",
    "> Consider your entire calibration document. What is the sum of all of the calibration values?"
   ]
  },
  {
   "cell_type": "code",
   "execution_count": null,
   "id": "772e813e-2428-4793-a39a-1ebd82193996",
   "metadata": {},
   "outputs": [],
   "source": [
    "import re\n",
    "from typing import List, Tuple"
   ]
  },
  {
   "cell_type": "code",
   "execution_count": null,
   "id": "527d6cba-db48-4acb-b37e-aa48c3050cdc",
   "metadata": {},
   "outputs": [],
   "source": [
    "def solution_part1() -> int:\n",
    "    \"\"\"Read the input file and return a list of integers created by concatenating the first and the last digit.\"\"\"\n",
    "    number_list: List[int] = []\n",
    "    with open('20231201-input.txt', 'r') as f:\n",
    "        for line in f.readlines():\n",
    "            digits: str = ''.join(re.findall('\\d', line))\n",
    "            digits = digits[0] + digits[-1]\n",
    "            number: int = int(digits)\n",
    "            # print(line.strip())\n",
    "            # print(digits)\n",
    "            number_list.append(number)\n",
    "    return sum(number_list)\n",
    "\n",
    "solution_part1()"
   ]
  },
  {
   "cell_type": "markdown",
   "id": "8d6cca88-0498-4f80-b1d1-33e3ef6d4b01",
   "metadata": {},
   "source": [
    "### Part Two\n",
    "\n",
    "> Your calculation isn't quite right. It looks like some of the digits are actually spelled out with letters: one, two, three, four, five, six, seven, eight, and nine also count as valid \"digits\".\n",
    ">\n",
    "> Equipped with this new information, you now need to find the real first and last digit on each line. For example:\n",
    ">\n",
    "> ```\n",
    "> two1nine\n",
    "> eightwothree\n",
    "> abcone2threexyz\n",
    "> xtwone3four\n",
    "> 4nineeightseven2\n",
    "> zoneight234\n",
    "> 7pqrstsixteen\n",
    "> ```\n",
    ">\n",
    "> \n",
    "> In this example, the calibration values are 29, 83, 13, 24, 42, 14, and 76. Adding these together produces 281.\n",
    "> \n",
    "> What is the sum of all of the calibration values?"
   ]
  },
  {
   "cell_type": "code",
   "execution_count": null,
   "id": "e83e0407-f977-4f82-8daa-24f8d7663543",
   "metadata": {
    "editable": true,
    "slideshow": {
     "slide_type": ""
    },
    "tags": []
   },
   "outputs": [],
   "source": [
    "def replace_words_with_digits(s: str, verbose: int = 0) -> str:\n",
    "    \"\"\"Replace number words in the input `s` with the digits.\n",
    "    This assumes number words do not overlap.\"\"\"\n",
    "    word_to_digit_list: List[Tuple[str, int]] = [\n",
    "        ('one', '1'),\n",
    "        ('two', '2'),\n",
    "        ('three', '3'),\n",
    "        ('four', '4'),\n",
    "        ('five', '5'),\n",
    "        ('six', '6'),\n",
    "        ('seven', '7'),\n",
    "        ('eight', '8'),\n",
    "        ('nine', '9'),\n",
    "    ]\n",
    "    replace_list: List[Tuple[int, str]] = []\n",
    "    for search_term, replace_term in word_to_digit_list:\n",
    "        # s = re.sub(search_term, replace_term, s)\n",
    "        if verbose >= 2:\n",
    "            print('\\tsearching for', search_term, 'in', s)\n",
    "        match_list = re.finditer(search_term, s)\n",
    "        for match in match_list:\n",
    "            idx = match.start()\n",
    "            if verbose >= 1:\n",
    "                print(f'\\t\\tindex for \"{search_term}\": {idx}')\n",
    "            replace_list.append((idx, replace_term))\n",
    "    for idx, digit in replace_list:\n",
    "        # s[idx] = digit\n",
    "        s = s[:idx] + digit + s[idx+1:]\n",
    "    return s\n",
    "\n",
    "\n",
    "def solution_part2(verbose: int = 0) -> int:\n",
    "    \"\"\"Read the input file and return a list of integers created by concatenating the first and the last digit.\"\"\"\n",
    "    number_list: List[int] = []\n",
    "    with open('20231201-input.txt', 'r') as f:\n",
    "        for line in f.readlines():\n",
    "            line = line.strip()\n",
    "            if verbose >= 1:\n",
    "                print(f'line:       {line}')\n",
    "            s = replace_words_with_digits(line, verbose=verbose)\n",
    "            if verbose >= 1:\n",
    "                print(f'replaced:   {s}')\n",
    "            all_digits: str = ''.join(re.findall('\\d', s))\n",
    "            digits = all_digits[0] + all_digits[-1]\n",
    "            number: int = int(digits)\n",
    "            if verbose >= 1:\n",
    "                print(f'all digits: {all_digits}')\n",
    "                print(f'two digits: {digits}')\n",
    "                print()\n",
    "            number_list.append(number)\n",
    "    return sum(number_list)\n",
    "\n",
    "solution_part2(verbose=0)"
   ]
  },
  {
   "cell_type": "code",
   "execution_count": null,
   "id": "14322f8d-9084-4ae1-8726-7a5c39fbdecf",
   "metadata": {},
   "outputs": [],
   "source": []
  }
 ],
 "metadata": {
  "kernelspec": {
   "display_name": "Python [conda env:py310]",
   "language": "python",
   "name": "conda-env-py310-py"
  },
  "language_info": {
   "codemirror_mode": {
    "name": "ipython",
    "version": 3
   },
   "file_extension": ".py",
   "mimetype": "text/x-python",
   "name": "python",
   "nbconvert_exporter": "python",
   "pygments_lexer": "ipython3",
   "version": "3.10.13"
  }
 },
 "nbformat": 4,
 "nbformat_minor": 5
}
